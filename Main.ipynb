{
 "cells": [
  {
   "cell_type": "code",
   "execution_count": 1,
   "metadata": {},
   "outputs": [
    {
     "name": "stderr",
     "output_type": "stream",
     "text": [
      "16:11:13 INFO Common initializing\n",
      "16:11:13 INFO FindCars initializing\n",
      "16:11:13 INFO StableCars initializing\n"
     ]
    }
   ],
   "source": [
    "%load_ext autoreload\n",
    "%autoreload 2\n",
    "%matplotlib inline\n",
    "import glob\n",
    "from Common import *\n",
    "from FindCars import *\n",
    "from StableCars import *"
   ]
  },
  {
   "cell_type": "code",
   "execution_count": 14,
   "metadata": {},
   "outputs": [],
   "source": [
    "svc = load_svc()\n",
    "find = FindCars(svc['cfg'], svc['svc'], svc['scaler'], 1.25)\n",
    "stable = StableCars(find, threshold=7, last_n=30, alpha=0.5)"
   ]
  },
  {
   "cell_type": "code",
   "execution_count": null,
   "metadata": {},
   "outputs": [
    {
     "name": "stdout",
     "output_type": "stream",
     "text": [
      "[MoviePy] >>>> Building video processed_video.mp4\n",
      "[MoviePy] Writing video processed_video.mp4\n"
     ]
    },
    {
     "name": "stderr",
     "output_type": "stream",
     "text": [
      " 40%|████      | 101/251 [00:48<01:08,  2.19it/s]"
     ]
    }
   ],
   "source": [
    "clip = VideoFileClip(\"project_video.mp4\")\n",
    "clip = clip.subclip(33,43)\n",
    "#processed = clip.fl_image(find.draw_cars)\n",
    "processed = clip.fl_image(stable.stablize)\n",
    "processed.write_videofile('processed_video.mp4', audio=False)"
   ]
  },
  {
   "cell_type": "code",
   "execution_count": null,
   "metadata": {},
   "outputs": [],
   "source": [
    "for img in glob.glob('test_images/test1.jpg'):\n",
    "    img = mpimg.imread(img)\n",
    "    img2 = find.draw_cars(img)\n",
    "    plt.figure(figsize=(10,6))\n",
    "    plt.imshow(img2)\n",
    "    img2 = stable.stablize(img)\n",
    "    plt.figure(figsize=(10,6))\n",
    "    plt.imshow(img2)"
   ]
  },
  {
   "cell_type": "code",
   "execution_count": null,
   "metadata": {
    "collapsed": true
   },
   "outputs": [],
   "source": []
  },
  {
   "cell_type": "code",
   "execution_count": null,
   "metadata": {
    "collapsed": true
   },
   "outputs": [],
   "source": []
  }
 ],
 "metadata": {
  "kernelspec": {
   "display_name": "Python 3",
   "language": "python",
   "name": "python3"
  },
  "language_info": {
   "codemirror_mode": {
    "name": "ipython",
    "version": 3
   },
   "file_extension": ".py",
   "mimetype": "text/x-python",
   "name": "python",
   "nbconvert_exporter": "python",
   "pygments_lexer": "ipython3",
   "version": "3.5.2"
  },
  "widgets": {
   "state": {},
   "version": "1.1.2"
  }
 },
 "nbformat": 4,
 "nbformat_minor": 1
}
