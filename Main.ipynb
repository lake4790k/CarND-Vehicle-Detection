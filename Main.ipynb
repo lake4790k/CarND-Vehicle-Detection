{
 "cells": [
  {
   "cell_type": "markdown",
   "metadata": {},
   "source": [
    "# Lane detection"
   ]
  },
  {
   "cell_type": "code",
   "execution_count": 1,
   "metadata": {},
   "outputs": [
    {
     "name": "stderr",
     "output_type": "stream",
     "text": [
      "16:28:22 INFO Common initializing\n",
      "16:28:22 INFO FindCars initializing\n",
      "16:28:22 INFO StableCars initializing\n"
     ]
    }
   ],
   "source": [
    "%load_ext autoreload\n",
    "%autoreload 2\n",
    "%matplotlib inline\n",
    "import glob\n",
    "from Config import *\n",
    "from Common import *\n",
    "from FindCars import *\n",
    "from StableCars import *"
   ]
  },
  {
   "cell_type": "markdown",
   "metadata": {},
   "source": [
    "## Train"
   ]
  },
  {
   "cell_type": "code",
   "execution_count": null,
   "metadata": {
    "collapsed": true
   },
   "outputs": [],
   "source": [
    "cfg = Config()\n",
    "train = Train(cfg)\n",
    "train.train_svc()"
   ]
  },
  {
   "cell_type": "markdown",
   "metadata": {},
   "source": [
    "## Process video "
   ]
  },
  {
   "cell_type": "code",
   "execution_count": 2,
   "metadata": {},
   "outputs": [],
   "source": [
    "svc = load_svc()\n",
    "find = FindCars(svc['cfg'], svc['svc'], svc['scaler'], 1.25)\n",
    "stable = StableCars(find, threshold=30, last_n=40, alpha=0.9)"
   ]
  },
  {
   "cell_type": "code",
   "execution_count": 3,
   "metadata": {},
   "outputs": [
    {
     "name": "stdout",
     "output_type": "stream",
     "text": [
      "[MoviePy] >>>> Building video processed_video.mp4\n",
      "[MoviePy] Writing video processed_video.mp4\n"
     ]
    },
    {
     "name": "stderr",
     "output_type": "stream",
     "text": [
      "100%|█████████▉| 1260/1261 [10:14<00:00,  1.89it/s]\n"
     ]
    },
    {
     "name": "stdout",
     "output_type": "stream",
     "text": [
      "[MoviePy] Done.\n",
      "[MoviePy] >>>> Video ready: processed_video.mp4 \n",
      "\n"
     ]
    }
   ],
   "source": [
    "clip = VideoFileClip(\"project_video.mp4\")\n",
    "#clip = clip.subclip(33,48)\n",
    "#processed = clip.fl_image(find.draw_cars)\n",
    "processed = clip.fl_image(stable.stablize)\n",
    "processed.write_videofile('processed_video.mp4', audio=False)"
   ]
  },
  {
   "cell_type": "markdown",
   "metadata": {},
   "source": [
    "## Visualize "
   ]
  },
  {
   "cell_type": "code",
   "execution_count": null,
   "metadata": {},
   "outputs": [],
   "source": [
    "for img in glob.glob('test_images/test1.jpg'):\n",
    "    img = mpimg.imread(img)\n",
    "    img2 = find.draw_cars(img)\n",
    "    plt.figure(figsize=(10,6))\n",
    "    plt.imshow(img2)\n",
    "    img2 = stable.stablize(img)\n",
    "    plt.figure(figsize=(10,6))\n",
    "    plt.imshow(img2)"
   ]
  },
  {
   "cell_type": "code",
   "execution_count": null,
   "metadata": {
    "collapsed": true
   },
   "outputs": [],
   "source": []
  },
  {
   "cell_type": "code",
   "execution_count": null,
   "metadata": {
    "collapsed": true
   },
   "outputs": [],
   "source": []
  }
 ],
 "metadata": {
  "kernelspec": {
   "display_name": "Python 3",
   "language": "python",
   "name": "python3"
  },
  "language_info": {
   "codemirror_mode": {
    "name": "ipython",
    "version": 3
   },
   "file_extension": ".py",
   "mimetype": "text/x-python",
   "name": "python",
   "nbconvert_exporter": "python",
   "pygments_lexer": "ipython3",
   "version": "3.5.2"
  },
  "widgets": {
   "state": {},
   "version": "1.1.2"
  }
 },
 "nbformat": 4,
 "nbformat_minor": 1
}
