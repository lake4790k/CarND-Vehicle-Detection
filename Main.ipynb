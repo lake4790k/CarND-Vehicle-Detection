{
 "cells": [
  {
   "cell_type": "markdown",
   "metadata": {},
   "source": [
    "# Lane detection"
   ]
  },
  {
   "cell_type": "code",
   "execution_count": 1,
   "metadata": {},
   "outputs": [
    {
     "name": "stderr",
     "output_type": "stream",
     "text": [
      "19:01:35 INFO Common initializing\n",
      "19:01:35 INFO FindCars initializing\n",
      "19:01:35 INFO StableCars initializing\n",
      "19:01:35 INFO Train initializing\n"
     ]
    }
   ],
   "source": [
    "%load_ext autoreload\n",
    "%autoreload 2\n",
    "%matplotlib inline\n",
    "import glob\n",
    "from Config import *\n",
    "from Common import *\n",
    "from FindCars import *\n",
    "from StableCars import *\n",
    "from Train import *"
   ]
  },
  {
   "cell_type": "markdown",
   "metadata": {},
   "source": [
    "## Train"
   ]
  },
  {
   "cell_type": "code",
   "execution_count": null,
   "metadata": {},
   "outputs": [],
   "source": [
    "cfg = Config()\n",
    "train = Train(cfg, small=False, sample_size=0)\n",
    "car_features, noncar_features = train.prepare_all_features()"
   ]
  },
  {
   "cell_type": "code",
   "execution_count": null,
   "metadata": {},
   "outputs": [],
   "source": [
    "train.train(car_features, noncar_features)"
   ]
  },
  {
   "cell_type": "markdown",
   "metadata": {},
   "source": [
    "## Process video "
   ]
  },
  {
   "cell_type": "code",
   "execution_count": 2,
   "metadata": {},
   "outputs": [],
   "source": [
    "svc = load_svc()\n",
    "find = FindCars(svc['cfg'], svc['svc'], svc['scaler'], 1)\n",
    "stable = StableCars(find, threshold=20, last_n=40, alpha=0.8)"
   ]
  },
  {
   "cell_type": "code",
   "execution_count": null,
   "metadata": {},
   "outputs": [
    {
     "name": "stdout",
     "output_type": "stream",
     "text": [
      "[MoviePy] >>>> Building video processed_video.mp4\n",
      "[MoviePy] Writing video processed_video.mp4\n"
     ]
    },
    {
     "name": "stderr",
     "output_type": "stream",
     "text": [
      "  8%|▊         | 100/1261 [01:21<14:48,  1.31it/s]"
     ]
    }
   ],
   "source": [
    "clip = VideoFileClip(\"project_video.mp4\")\n",
    "#clip = clip.subclip(10,15)\n",
    "processed = clip.fl_image(stable.stablize)\n",
    "processed.write_videofile('processed_video.mp4', audio=False)"
   ]
  },
  {
   "cell_type": "markdown",
   "metadata": {},
   "source": [
    "## Visualize "
   ]
  },
  {
   "cell_type": "code",
   "execution_count": null,
   "metadata": {},
   "outputs": [],
   "source": [
    "for img in glob.glob('test_images/test1.jpg'):\n",
    "    img = mpimg.imread(img)\n",
    "    img2 = find.draw_cars(img)\n",
    "    plt.figure(figsize=(10,6))\n",
    "    plt.imshow(img2)\n",
    "    img2 = stable.stablize(img)\n",
    "    plt.figure(figsize=(10,6))\n",
    "    plt.imshow(img2)"
   ]
  },
  {
   "cell_type": "code",
   "execution_count": null,
   "metadata": {
    "collapsed": true
   },
   "outputs": [],
   "source": []
  }
 ],
 "metadata": {
  "kernelspec": {
   "display_name": "Python 3",
   "language": "python",
   "name": "python3"
  },
  "language_info": {
   "codemirror_mode": {
    "name": "ipython",
    "version": 3
   },
   "file_extension": ".py",
   "mimetype": "text/x-python",
   "name": "python",
   "nbconvert_exporter": "python",
   "pygments_lexer": "ipython3",
   "version": "3.5.2"
  },
  "widgets": {
   "state": {},
   "version": "1.1.2"
  }
 },
 "nbformat": 4,
 "nbformat_minor": 1
}
